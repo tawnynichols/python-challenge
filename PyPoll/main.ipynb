{
 "cells": [
  {
   "cell_type": "code",
   "execution_count": 1,
   "metadata": {},
   "outputs": [],
   "source": [
    "# Dependencies\n",
    "import os\n",
    "import csv"
   ]
  },
  {
   "cell_type": "code",
   "execution_count": 2,
   "metadata": {},
   "outputs": [],
   "source": [
    "# Specify path to read file\n",
    "voter_csv = os.path.join(\"Resources\", \"election_data.csv\")"
   ]
  },
  {
   "cell_type": "code",
   "execution_count": 3,
   "metadata": {},
   "outputs": [],
   "source": [
    " # New list to store candidate names\n",
    "candidate_names = []\n",
    "candidate_votes = [0,0,0,0]\n",
    "total_votes = 0"
   ]
  },
  {
   "cell_type": "code",
   "execution_count": 4,
   "metadata": {},
   "outputs": [],
   "source": [
    "def appendWrite():\n",
    "    for i in range(len(candidate_names)):\n",
    "        candidate_votes.append(0)"
   ]
  },
  {
   "cell_type": "code",
   "execution_count": 9,
   "metadata": {},
   "outputs": [],
   "source": [
    "# open file to store values in new list\n",
    "with open(voter_csv, encoding='utf-8-sig') as csvfile:\n",
    "    csvreader = csv.reader(csvfile, delimiter=\",\")\n",
    "    \n",
    "    # Skip header\n",
    "    header = next(csvreader)\n",
    "    \n",
    "    # Create loop to convert string to int\n",
    "    for row in csvreader:\n",
    "        row[0] = int(row[0])\n",
    "        \n",
    "        #Count total records with votes\n",
    "        total_votes = total_votes + 1\n",
    "        \n",
    "        # Add unqie canidate names to new list\n",
    "        if row[2] not in candidate_names:\n",
    "            candidate_names.append(row[2])  \n",
    "    \n",
    "        for j in candidate_names:    \n",
    "            if row[2] == j:\n",
    "                candidate_votes[candidate_names.index(j)] += 1\n",
    "                \n",
    "        \n",
    "        # loop to count votes per candidate\n",
    "#             for i in candidate_names:\n",
    "#                 if(str(i) == str(row[2])):\n",
    "#                     candidate_votes = candidate_votes + 1\n",
    "#                     print(f'{i}, {candidate_votes}')"
   ]
  },
  {
   "cell_type": "code",
   "execution_count": 25,
   "metadata": {},
   "outputs": [],
   "source": []
  },
  {
   "cell_type": "code",
   "execution_count": 18,
   "metadata": {},
   "outputs": [],
   "source": []
  },
  {
   "cell_type": "code",
   "execution_count": 10,
   "metadata": {},
   "outputs": [
    {
     "name": "stdout",
     "output_type": "stream",
     "text": [
      "10563003\n",
      "4\n",
      "[0, 0, 0, 0]\n",
      "['Khan', 'Correy', 'Li', \"O'Tooley\"]\n"
     ]
    }
   ],
   "source": [
    "# create variables for each statement\n",
    "# The total number of votes cast\n",
    "#total_votes = total_recrods(names)\n",
    "print(total_votes)\n",
    "\n",
    "# A complete list of candidates who received votes\n",
    "print(len(candidate_names))\n",
    "print(candidate_votes)\n",
    "print(candidate_names)\n",
    "# The percentage of votes each candidate won\n",
    "\n",
    "\n",
    "\n",
    "# The total number of votes each candidate won\n",
    "\n",
    "\n",
    "# The winner of the election based on popular vote.\n",
    "\n"
   ]
  },
  {
   "cell_type": "code",
   "execution_count": 7,
   "metadata": {},
   "outputs": [
    {
     "name": "stdout",
     "output_type": "stream",
     "text": [
      "3521001\n"
     ]
    }
   ],
   "source": [
    "print(total_votes)"
   ]
  },
  {
   "cell_type": "code",
   "execution_count": null,
   "metadata": {},
   "outputs": [],
   "source": [
    "# Create a dictionary to store the values\n",
    "dict = {'Total Votes: ': total_votes, 'Total: ': total_amount, 'Average Change: ': avg_amount,\n",
    "       'Greatest Increase in Profits: ' : inc_profits, 'Greatest Decrease in Profits: ' : dec_profits}"
   ]
  },
  {
   "cell_type": "code",
   "execution_count": null,
   "metadata": {},
   "outputs": [],
   "source": [
    "# As an example, your analysis should look similar to the one below:\n",
    "\n",
    "# ```text\n",
    "#   Election Results\n",
    "#   -------------------------\n",
    "#   Total Votes: 3521001\n",
    "#   -------------------------\n",
    "#   Khan: 63.000% (2218231)\n",
    "#   Correy: 20.000% (704200)\n",
    "#   Li: 14.000% (492940)\n",
    "#   O'Tooley: 3.000% (105630)\n",
    "#   -------------------------\n",
    "#   Winner: Khan\n",
    "#   -------------------------\n",
    "#   ```"
   ]
  },
  {
   "cell_type": "code",
   "execution_count": null,
   "metadata": {},
   "outputs": [],
   "source": [
    "# In addition, your final script should both print the analysis to the terminal and export a text file with the results."
   ]
  }
 ],
 "metadata": {
  "kernelspec": {
   "display_name": "Python 3",
   "language": "python",
   "name": "python3"
  },
  "language_info": {
   "codemirror_mode": {
    "name": "ipython",
    "version": 3
   },
   "file_extension": ".py",
   "mimetype": "text/x-python",
   "name": "python",
   "nbconvert_exporter": "python",
   "pygments_lexer": "ipython3",
   "version": "3.7.6"
  }
 },
 "nbformat": 4,
 "nbformat_minor": 4
}
